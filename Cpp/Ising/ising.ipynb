{
 "cells": [
  {
   "cell_type": "markdown",
   "metadata": {},
   "source": [
    "cf. [`ComputationalPhysics/doc/Programs/LecturePrograms/programs/StatPhys/python/ising2dim.py`](https://github.com/CompPhysics/ComputationalPhysics/blob/master/doc/Programs/LecturePrograms/programs/StatPhys/python/ising2dim.py)"
   ]
  },
  {
   "cell_type": "code",
   "execution_count": 1,
   "metadata": {},
   "outputs": [],
   "source": [
    "import numpy\n",
    "import numpy as np\n",
    "import sys\n",
    "import math"
   ]
  },
  {
   "cell_type": "markdown",
   "metadata": {},
   "source": [
    "## Periodic boundary conditions "
   ]
  },
  {
   "cell_type": "code",
   "execution_count": 5,
   "metadata": {},
   "outputs": [],
   "source": [
    "def periodic(i,limit,add): \n",
    "    \"\"\"\n",
    "    Choose correct matrix index with periodic boundary conditions\n",
    "    \n",
    "    Input:\n",
    "    - i:     Base index\n",
    "    - limit: Highest \\\"legal\\\" index\n",
    "    - add:   Number to add or subtract from i\n",
    "    \"\"\"\n",
    "    return (i + limit + add) % limit"
   ]
  },
  {
   "cell_type": "code",
   "execution_count": null,
   "metadata": {},
   "outputs": [],
   "source": []
  },
  {
   "cell_type": "markdown",
   "metadata": {},
   "source": [
    "Set up spin matrix, initialize to ground state"
   ]
  },
  {
   "cell_type": "code",
   "execution_count": 6,
   "metadata": {},
   "outputs": [],
   "source": [
    "size = 256 # L_x\n",
    "temp = 10. # temperature T"
   ]
  },
  {
   "cell_type": "code",
   "execution_count": 3,
   "metadata": {},
   "outputs": [],
   "source": [
    "spin_matrix = np.zeros( (size,size), np.int8) + 1"
   ]
  },
  {
   "cell_type": "code",
   "execution_count": 4,
   "metadata": {},
   "outputs": [
    {
     "data": {
      "text/plain": [
       "array([[1, 1, 1, ..., 1, 1, 1],\n",
       "       [1, 1, 1, ..., 1, 1, 1],\n",
       "       [1, 1, 1, ..., 1, 1, 1],\n",
       "       ..., \n",
       "       [1, 1, 1, ..., 1, 1, 1],\n",
       "       [1, 1, 1, ..., 1, 1, 1],\n",
       "       [1, 1, 1, ..., 1, 1, 1]], dtype=int8)"
      ]
     },
     "execution_count": 4,
     "metadata": {},
     "output_type": "execute_result"
    }
   ],
   "source": [
    "spin_matrix"
   ]
  },
  {
   "cell_type": "markdown",
   "metadata": {},
   "source": [
    "Create and initialize variables "
   ]
  },
  {
   "cell_type": "code",
   "execution_count": 5,
   "metadata": {},
   "outputs": [],
   "source": [
    "E = M = 0 \n",
    "E_av = E2_av = M_av = M2_av = Mabs_av = 0 "
   ]
  },
  {
   "cell_type": "markdown",
   "metadata": {},
   "source": [
    "Setup array for possible energy changes "
   ]
  },
  {
   "cell_type": "code",
   "execution_count": 7,
   "metadata": {},
   "outputs": [
    {
     "name": "stdout",
     "output_type": "stream",
     "text": [
      "-8\n",
      "-4\n",
      "0\n",
      "4\n",
      "8\n"
     ]
    }
   ],
   "source": [
    "w = np.zeros(17, np.float64)\n",
    "for de in xrange(-8,9,4):\n",
    "    print de \n",
    "    w[de+8] = math.exp(-de/temp)"
   ]
  },
  {
   "cell_type": "code",
   "execution_count": 8,
   "metadata": {},
   "outputs": [
    {
     "name": "stdout",
     "output_type": "stream",
     "text": [
      "[ 2.22554093  0.          0.          0.          1.4918247   0.          0.\n",
      "  0.          1.          0.          0.          0.          0.67032005\n",
      "  0.          0.          0.          0.44932896]\n"
     ]
    }
   ],
   "source": [
    "print w"
   ]
  },
  {
   "cell_type": "markdown",
   "metadata": {},
   "source": [
    "Calculate initial magnetization"
   ]
  },
  {
   "cell_type": "code",
   "execution_count": 10,
   "metadata": {},
   "outputs": [
    {
     "name": "stdout",
     "output_type": "stream",
     "text": [
      "65536\n"
     ]
    }
   ],
   "source": [
    "M = spin_matrix.sum()\n",
    "print M"
   ]
  },
  {
   "cell_type": "markdown",
   "metadata": {},
   "source": [
    "Calculate initial energy"
   ]
  },
  {
   "cell_type": "code",
   "execution_count": 15,
   "metadata": {},
   "outputs": [],
   "source": [
    "# for i in xrange(16): print i  r\n",
    "# range creates a list, so if you do range(1, 10000000) it creates a list in memory with 9999999 elements.\n",
    "# xrange is a sequence object that evaluates lazily. "
   ]
  },
  {
   "cell_type": "code",
   "execution_count": 17,
   "metadata": {},
   "outputs": [],
   "source": [
    "for j in xrange(size):\n",
    "    for i in xrange(size):\n",
    "        E -= spin_matrix.item(i,j) * (spin_matrix.item(periodic(i,size,-1),j) + spin_matrix.item(i,periodic(j,size,1)))\n"
   ]
  },
  {
   "cell_type": "markdown",
   "metadata": {},
   "source": [
    "Metropolis MonteCarlo computation, 1 single step or iteration, done explicitly:  "
   ]
  },
  {
   "cell_type": "code",
   "execution_count": 18,
   "metadata": {},
   "outputs": [
    {
     "name": "stdout",
     "output_type": "stream",
     "text": [
      "99\n",
      "220\n"
     ]
    }
   ],
   "source": [
    "x = int(np.random.random()*size)\n",
    "print(x)\n",
    "y = int(np.random.random()*size)\n",
    "print(y)"
   ]
  },
  {
   "cell_type": "code",
   "execution_count": 20,
   "metadata": {},
   "outputs": [
    {
     "name": "stdout",
     "output_type": "stream",
     "text": [
      "8\n"
     ]
    }
   ],
   "source": [
    "deltaE = 2*spin_matrix.item(i,j) * \\\n",
    "          (spin_matrix.item(periodic(x,size,-1),y) + spin_matrix.item(periodic(x,size,1),y) + \\\n",
    "          spin_matrix.item(x,periodic(y,size,-1))+spin_matrix.item(x,periodic(y,size,1)))  \n",
    "print(deltaE)"
   ]
  },
  {
   "cell_type": "code",
   "execution_count": 21,
   "metadata": {},
   "outputs": [
    {
     "name": "stdout",
     "output_type": "stream",
     "text": [
      "0.449328964117\n"
     ]
    }
   ],
   "source": [
    "print( w[deltaE + 8] )"
   ]
  },
  {
   "cell_type": "code",
   "execution_count": 22,
   "metadata": {},
   "outputs": [
    {
     "data": {
      "text/plain": [
       "0.14065460780085948"
      ]
     },
     "execution_count": 22,
     "metadata": {},
     "output_type": "execute_result"
    }
   ],
   "source": [
    "np.random.random()"
   ]
  },
  {
   "cell_type": "code",
   "execution_count": 23,
   "metadata": {},
   "outputs": [
    {
     "name": "stdout",
     "output_type": "stream",
     "text": [
      "True\n"
     ]
    }
   ],
   "source": [
    "print( np.random.random() <= w[deltaE+8])"
   ]
  },
  {
   "cell_type": "markdown",
   "metadata": {},
   "source": [
    "Accept (if True)!"
   ]
  },
  {
   "cell_type": "code",
   "execution_count": 25,
   "metadata": {},
   "outputs": [
    {
     "name": "stdout",
     "output_type": "stream",
     "text": [
      "1\n",
      "1\n"
     ]
    }
   ],
   "source": [
    "print( spin_matrix[x,y] )\n",
    "print( spin_matrix.item(x,y) )"
   ]
  },
  {
   "cell_type": "code",
   "execution_count": 26,
   "metadata": {},
   "outputs": [
    {
     "name": "stdout",
     "output_type": "stream",
     "text": [
      "-1\n",
      "65534\n",
      "-131064\n"
     ]
    }
   ],
   "source": [
    "spin_matrix[x,y] *= -1\n",
    "M += 2*spin_matrix[x,y]\n",
    "E += deltaE\n",
    "print(spin_matrix.item(x,y))\n",
    "print(M)\n",
    "print(E)"
   ]
  },
  {
   "cell_type": "code",
   "execution_count": 27,
   "metadata": {},
   "outputs": [
    {
     "ename": "ImportError",
     "evalue": "No module named pygame",
     "output_type": "error",
     "traceback": [
      "\u001b[0;31m---------------------------------------------------------------------------\u001b[0m",
      "\u001b[0;31mImportError\u001b[0m                               Traceback (most recent call last)",
      "\u001b[0;32m<ipython-input-27-671b35b41eba>\u001b[0m in \u001b[0;36m<module>\u001b[0;34m()\u001b[0m\n\u001b[0;32m----> 1\u001b[0;31m \u001b[0;32mimport\u001b[0m \u001b[0mpygame\u001b[0m\u001b[0;34m\u001b[0m\u001b[0m\n\u001b[0m",
      "\u001b[0;31mImportError\u001b[0m: No module named pygame"
     ]
    }
   ],
   "source": [
    "import pygame"
   ]
  },
  {
   "cell_type": "markdown",
   "metadata": {},
   "source": [
    "## Initialize (all spins up), explicitly shown "
   ]
  },
  {
   "cell_type": "code",
   "execution_count": 11,
   "metadata": {},
   "outputs": [],
   "source": [
    "Lx=256; Ly=256\n",
    "spin_matrix = np.zeros((Lx,Ly),np.int8)"
   ]
  },
  {
   "cell_type": "code",
   "execution_count": 14,
   "metadata": {},
   "outputs": [
    {
     "name": "stdout",
     "output_type": "stream",
     "text": [
      "(256, 256)\n"
     ]
    },
    {
     "data": {
      "text/plain": [
       "array([[1, 1, 1, ..., 1, 1, 1],\n",
       "       [1, 1, 1, ..., 1, 1, 1],\n",
       "       [1, 1, 1, ..., 1, 1, 1],\n",
       "       ..., \n",
       "       [1, 1, 1, ..., 1, 1, 1],\n",
       "       [1, 1, 1, ..., 1, 1, 1],\n",
       "       [1, 1, 1, ..., 1, 1, 1]], dtype=int8)"
      ]
     },
     "execution_count": 14,
     "metadata": {},
     "output_type": "execute_result"
    }
   ],
   "source": [
    "print(spin_matrix.shape)\n",
    "spin_matrix.fill(1)\n",
    "spin_matrix"
   ]
  },
  {
   "cell_type": "code",
   "execution_count": 18,
   "metadata": {},
   "outputs": [],
   "source": [
    "def initialize_allup( spin_matrix, J=1.0 ):\n",
    "    Lx,Ly = spin_matrix.shape\n",
    "    \n",
    "    spin_matrix.fill(1)\n",
    "    M = spin_matrix.sum()\n",
    "    # Calculate initial energy  \n",
    "    E=0\n",
    "    for j in xrange(Ly):\n",
    "        for i in xrange(Lx):\n",
    "            E += (-J)*spin_matrix.item(i,j) * \\\n",
    "                (spin_matrix.item(periodic(i,Lx,+1),j) + spin_matrix.item(i,periodic(j,Ly,1)) )\n",
    "    print \"M: \",M,\" E: \", E\n",
    "    return E,M    "
   ]
  },
  {
   "cell_type": "code",
   "execution_count": 19,
   "metadata": {},
   "outputs": [
    {
     "name": "stdout",
     "output_type": "stream",
     "text": [
      "M:  65536  E:  -131072.0\n"
     ]
    }
   ],
   "source": [
    "E,M = initialize_allup( spin_matrix)"
   ]
  },
  {
   "cell_type": "code",
   "execution_count": 20,
   "metadata": {},
   "outputs": [],
   "source": [
    "def initialize_allup1( spin_matrix, J=1.0 ):\n",
    "    Lx,Ly = spin_matrix.shape\n",
    "    \n",
    "    spin_matrix.fill(1)\n",
    "    M = spin_matrix.sum()\n",
    "    # Calculate initial energy  \n",
    "    E=0\n",
    "    for j in xrange(Ly):\n",
    "        for i in xrange(Lx):\n",
    "            E -= J*spin_matrix.item(i,j) * \\\n",
    "                (spin_matrix.item(periodic(i,Lx,-1),j) + spin_matrix.item(i,periodic(j,Ly,1)) )\n",
    "    print \"M: \",M,\" E: \", E\n",
    "    return E,M   "
   ]
  },
  {
   "cell_type": "code",
   "execution_count": 21,
   "metadata": {},
   "outputs": [
    {
     "name": "stdout",
     "output_type": "stream",
     "text": [
      "M:  65536  E:  -131072.0\n"
     ]
    }
   ],
   "source": [
    "E,M = initialize_allup( spin_matrix)"
   ]
  },
  {
   "cell_type": "code",
   "execution_count": 22,
   "metadata": {},
   "outputs": [],
   "source": [
    "Lx=512; Ly=512\n",
    "spin_matrix = np.zeros((Lx,Ly),np.int8)"
   ]
  },
  {
   "cell_type": "code",
   "execution_count": 23,
   "metadata": {},
   "outputs": [
    {
     "name": "stdout",
     "output_type": "stream",
     "text": [
      "M:  262144  E:  -524288.0\n",
      "M:  262144  E:  -524288.0\n"
     ]
    }
   ],
   "source": [
    "E,M = initialize_allup1( spin_matrix)\n",
    "E,M = initialize_allup( spin_matrix)"
   ]
  },
  {
   "cell_type": "code",
   "execution_count": 25,
   "metadata": {},
   "outputs": [
    {
     "name": "stdout",
     "output_type": "stream",
     "text": [
      "1048576\n"
     ]
    }
   ],
   "source": [
    "Lx=1024; Ly=1024\n",
    "print(Lx*Ly)\n",
    "spin_matrix = np.zeros((Lx,Ly),np.int8)"
   ]
  },
  {
   "cell_type": "code",
   "execution_count": 26,
   "metadata": {},
   "outputs": [
    {
     "name": "stdout",
     "output_type": "stream",
     "text": [
      "M:  1048576  E:  -2097152.0\n",
      "M:  1048576  E:  -2097152.0\n"
     ]
    }
   ],
   "source": [
    "E,M = initialize_allup1( spin_matrix)\n",
    "E,M = initialize_allup( spin_matrix)"
   ]
  },
  {
   "cell_type": "code",
   "execution_count": 27,
   "metadata": {},
   "outputs": [
    {
     "data": {
      "text/plain": [
       "2147483648.0"
      ]
     },
     "execution_count": 27,
     "metadata": {},
     "output_type": "execute_result"
    }
   ],
   "source": [
    "math.pow(2,31)"
   ]
  },
  {
   "cell_type": "markdown",
   "metadata": {},
   "source": [
    "## Setup array for possible energy changes  "
   ]
  },
  {
   "cell_type": "code",
   "execution_count": 29,
   "metadata": {},
   "outputs": [],
   "source": [
    "temp = 1.0"
   ]
  },
  {
   "cell_type": "code",
   "execution_count": 30,
   "metadata": {},
   "outputs": [],
   "source": [
    "w = np.zeros(17,np.float32)\n",
    "for de in xrange(-8,9,4): # include +8\n",
    "    w[de+8] = math.exp(-de/temp)  "
   ]
  },
  {
   "cell_type": "code",
   "execution_count": 31,
   "metadata": {},
   "outputs": [
    {
     "name": "stdout",
     "output_type": "stream",
     "text": [
      "[  2.98095801e+03   0.00000000e+00   0.00000000e+00   0.00000000e+00\n",
      "   5.45981483e+01   0.00000000e+00   0.00000000e+00   0.00000000e+00\n",
      "   1.00000000e+00   0.00000000e+00   0.00000000e+00   0.00000000e+00\n",
      "   1.83156393e-02   0.00000000e+00   0.00000000e+00   0.00000000e+00\n",
      "   3.35462624e-04]\n"
     ]
    }
   ],
   "source": [
    "print(w)"
   ]
  },
  {
   "cell_type": "markdown",
   "metadata": {},
   "source": [
    "## Importing from the script `ising2dim.py` "
   ]
  },
  {
   "cell_type": "code",
   "execution_count": 2,
   "metadata": {},
   "outputs": [],
   "source": [
    "import os"
   ]
  },
  {
   "cell_type": "code",
   "execution_count": 3,
   "metadata": {},
   "outputs": [
    {
     "name": "stdout",
     "output_type": "stream",
     "text": [
      "/home/topolo/PropD/CompPhys/Cpp/Ising\n",
      "['ising', '.ipynb_checkpoints', 'ising_2dim', 'IsingGPU', 'ising_2dim.cpp', 'Ising', 'ising2dim.py', 'ising.gz', 'ising.ipynb']\n"
     ]
    }
   ],
   "source": [
    "print(os.getcwd())\n",
    "print(os.listdir( os.getcwd() ))"
   ]
  },
  {
   "cell_type": "code",
   "execution_count": 4,
   "metadata": {},
   "outputs": [],
   "source": [
    "sys.path.append('./')"
   ]
  },
  {
   "cell_type": "markdown",
   "metadata": {},
   "source": [
    "# Reading out data from `./IsingGPU/FileIO/output.h`  "
   ]
  },
  {
   "cell_type": "markdown",
   "metadata": {},
   "source": [
    "Data is generated by the parallel Metropolis algorithm in CUDA C++ in the subdirectory `./IsingGPU/data/`, which is done by the function `process_avgs` in `./IsingGPU/FileIO/output.h`.  The values are saved as a character array, which then can be read in as a NumPy array of `float32`'s.  Be sure to enforce, declare the `dtype` to be `float32`.    "
   ]
  },
  {
   "cell_type": "code",
   "execution_count": 3,
   "metadata": {},
   "outputs": [],
   "source": [
    "avgsresults_GPU = np.fromfile(\"./IsingGPU/data/IsingMetroGPU.bin\",dtype=np.float32)"
   ]
  },
  {
   "cell_type": "code",
   "execution_count": 4,
   "metadata": {},
   "outputs": [
    {
     "name": "stdout",
     "output_type": "stream",
     "text": [
      "(1407,)\n",
      "1407\n"
     ]
    }
   ],
   "source": [
    "print(avgsresults_GPU.shape)\n",
    "print(avgsresults_GPU.size)"
   ]
  },
  {
   "cell_type": "code",
   "execution_count": 7,
   "metadata": {},
   "outputs": [
    {
     "name": "stdout",
     "output_type": "stream",
     "text": [
      "(201, 7)\n",
      "1407\n"
     ]
    }
   ],
   "source": [
    "avgsresults_GPU = avgsresults_GPU.reshape(201,7) # 7 different averages\n",
    "print(avgsresults_GPU.shape)\n",
    "print(avgsresults_GPU.size)"
   ]
  },
  {
   "cell_type": "code",
   "execution_count": 8,
   "metadata": {},
   "outputs": [
    {
     "data": {
      "text/plain": [
       "array([[  1.00000000e+00,  -6.19936562e+00,   6.14543200e+06, ...,\n",
       "         -1.68125000e+02,   9.98943210e-01,   1.14767216e+18],\n",
       "       [  1.00999999e+00,  -6.53594589e+00,   7.13536000e+06, ...,\n",
       "         -2.11687500e+02,   9.98923302e-01,   1.14729544e+18],\n",
       "       [  1.01999998e+00,  -7.08365774e+00,   8.92425200e+06, ...,\n",
       "         -2.28750000e+01,   9.98698294e-01,   1.14691006e+18],\n",
       "       ..., \n",
       "       [  2.97999811e+00,  -3.79247021e+03,   6.91525386e+11, ...,\n",
       "          2.65114838e+02,   2.44667777e-03,   1.21362773e+14],\n",
       "       [  2.98999810e+00,  -3.79189673e+03,   6.92151386e+11, ...,\n",
       "          2.61317871e+02,   2.44078762e-03,   1.19340397e+14],\n",
       "       [  2.99999809e+00,  -3.79308301e+03,   6.90945524e+11, ...,\n",
       "          2.57524719e+02,   2.43111840e-03,   1.17293518e+14]], dtype=float32)"
      ]
     },
     "execution_count": 8,
     "metadata": {},
     "output_type": "execute_result"
    }
   ],
   "source": [
    "avgsresults_GPU"
   ]
  },
  {
   "cell_type": "code",
   "execution_count": 9,
   "metadata": {},
   "outputs": [],
   "source": [
    "import matplotlib.pyplot as plt"
   ]
  },
  {
   "cell_type": "code",
   "execution_count": 11,
   "metadata": {},
   "outputs": [
    {
     "data": {
      "image/png": "[encoded data removed]",
      "text/plain": [
       "<matplotlib.figure.Figure at 0x7f088d1c8590>"
      ]
     },
     "metadata": {},
     "output_type": "display_data"
    }
   ],
   "source": [
    "fig = plt.figure()\n",
    "ax = fig.add_subplot(1,1,1)\n",
    "T = avgsresults_GPU[:,0]\n",
    "E_avg = avgsresults_GPU[:,1]\n",
    "ax.scatter( T, E_avg)\n",
    "plt.show()"
   ]
  },
  {
   "cell_type": "code",
   "execution_count": 14,
   "metadata": {},
   "outputs": [
    {
     "data": {
      "image/png": "[encoded data removed]",
      "text/plain": [
       "<matplotlib.figure.Figure at 0x7f088d483f10>"
      ]
     },
     "metadata": {},
     "output_type": "display_data"
    }
   ],
   "source": [
    "Evar_avg = avgsresults_GPU[:,2]\n",
    "plt.scatter( T, Evar_avg)\n",
    "plt.show()"
   ]
  },
  {
   "cell_type": "code",
   "execution_count": 20,
   "metadata": {},
   "outputs": [
    {
     "data": {
      "image/png": "[encoded data removed]",
      "text/plain": [
       "<matplotlib.figure.Figure at 0x7f088afed290>"
      ]
     },
     "metadata": {},
     "output_type": "display_data"
    }
   ],
   "source": [
    "M_avg = avgsresults_GPU[:,3]\n",
    "Mvar_avg = avgsresults_GPU[:,4]\n",
    "absM_avg = avgsresults_GPU[:,5]\n",
    "M4_avg = avgsresults_GPU[:,6]\n",
    "#fig = plt.figure()\n",
    "#ax = fig.add_subplot(4,1,1)\n",
    "plt.scatter( T, M_avg)\n",
    "#fig.add_subplot(4,1,2)\n",
    "#plt.scatter(T,Mvar_avg)\n",
    "#fig.add_subplot(4,1,3)\n",
    "#plt.scatter(T,absM_avg)\n",
    "#fig.add_subplot(4,1,4)\n",
    "#plt.scatter(T,M4_avg)\n",
    "plt.show()"
   ]
  },
  {
   "cell_type": "code",
   "execution_count": 21,
   "metadata": {},
   "outputs": [
    {
     "data": {
      "image/png": "[encoded data removed]",
      "text/plain": [
       "<matplotlib.figure.Figure at 0x7f088aff82d0>"
      ]
     },
     "metadata": {},
     "output_type": "display_data"
    }
   ],
   "source": [
    "plt.scatter(T,Mvar_avg)\n",
    "plt.show()"
   ]
  },
  {
   "cell_type": "code",
   "execution_count": 22,
   "metadata": {},
   "outputs": [
    {
     "data": {
      "image/png": "[encoded data removed]",
      "text/plain": [
       "<matplotlib.figure.Figure at 0x7f088af5ae50>"
      ]
     },
     "metadata": {},
     "output_type": "display_data"
    }
   ],
   "source": [
    "plt.scatter(T,absM_avg)\n",
    "plt.show()"
   ]
  },
  {
   "cell_type": "code",
   "execution_count": 23,
   "metadata": {},
   "outputs": [
    {
     "data": {
      "image/png": "[encoded data removed]",
      "text/plain": [
       "<matplotlib.figure.Figure at 0x7f088ab5be90>"
      ]
     },
     "metadata": {},
     "output_type": "display_data"
    }
   ],
   "source": [
    "plt.scatter(T,M4_avg)\n",
    "plt.show()"
   ]
  },
  {
   "cell_type": "code",
   "execution_count": null,
   "metadata": {},
   "outputs": [],
   "source": []
  }
 ],
 "metadata": {
  "kernelspec": {
   "display_name": "Python 2",
   "language": "python",
   "name": "python2"
  },
  "language_info": {
   "codemirror_mode": {
    "name": "ipython",
    "version": 2
   },
   "file_extension": ".py",
   "mimetype": "text/x-python",
   "name": "python",
   "nbconvert_exporter": "python",
   "pygments_lexer": "ipython2",
   "version": "2.7.13"
  }
 },
 "nbformat": 4,
 "nbformat_minor": 2
}
