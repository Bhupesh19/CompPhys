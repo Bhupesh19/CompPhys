{
 "cells": [
  {
   "cell_type": "markdown",
   "metadata": {},
   "source": [
    "# Importing from the script `./ising2dim.py`  "
   ]
  },
  {
   "cell_type": "code",
   "execution_count": 1,
   "metadata": {},
   "outputs": [
    {
     "name": "stdout",
     "output_type": "stream",
     "text": [
      "/home/topolo/PropD/CompPhys/Cpp/Ising\n",
      "['ising', '.ipynb_checkpoints', 'ising_2dim', 'IsingGPU', 'Ising2d_py.ipynb', 'README.md', 'ising_2dim.cpp', 'Ising', 'ising2dim.pyc', 'ising2dim.py', 'ising.gz', 'ising.ipynb']\n"
     ]
    }
   ],
   "source": [
    "import os\n",
    "import sys\n",
    "print(os.getcwd())\n",
    "print(os.listdir( os.getcwd() ))"
   ]
  },
  {
   "cell_type": "code",
   "execution_count": 2,
   "metadata": {},
   "outputs": [],
   "source": [
    "import numpy\n",
    "import numpy as np"
   ]
  },
  {
   "cell_type": "code",
   "execution_count": 3,
   "metadata": {},
   "outputs": [],
   "source": [
    "sys.path.append('./')"
   ]
  },
  {
   "cell_type": "code",
   "execution_count": 4,
   "metadata": {},
   "outputs": [],
   "source": [
    "from ising2dim import periodic\n",
    "from ising2dim import monteCarlo"
   ]
  },
  {
   "cell_type": "code",
   "execution_count": 8,
   "metadata": {},
   "outputs": [],
   "source": [
    "trials = int( 10000 )\n",
    "size = int( 128 )\n",
    "temp_init   = float( 1.0 )\n",
    "temp_end    = float( 3.0 )\n",
    "temp_step = float( 0.05 )"
   ]
  },
  {
   "cell_type": "code",
   "execution_count": 9,
   "metadata": {},
   "outputs": [
    {
     "name": "stdout",
     "output_type": "stream",
     "text": [
      "41\n"
     ]
    }
   ],
   "source": [
    "temps = np.arange(temp_init,temp_end+temp_step/2,temp_step,float)\n",
    "print(len(temps))  "
   ]
  },
  {
   "cell_type": "code",
   "execution_count": 7,
   "metadata": {},
   "outputs": [],
   "source": [
    "# code to time code\n",
    "import time"
   ]
  },
  {
   "cell_type": "code",
   "execution_count": null,
   "metadata": {},
   "outputs": [],
   "source": [
    "# code to time code\n",
    "\"\"\"\n",
    "t0 = time.time() # return time in seconds  \n",
    "code_block\n",
    "t1 = time.time() \n",
    "total = t1-t0 # return time in seconds  \n",
    "\"\"\""
   ]
  },
  {
   "cell_type": "code",
   "execution_count": 11,
   "metadata": {},
   "outputs": [
    {
     "name": "stdout",
     "output_type": "stream",
     "text": [
      " temp : 1.000000 , t2-t1 : 332.685235 sec., t3-t1 : 332.685238 sec. \n",
      "\n",
      " temp : 1.050000 , t2-t1 : 335.462056 sec., t3-t1 : 335.462059 sec. \n",
      "\n",
      " temp : 1.100000 , t2-t1 : 332.107940 sec., t3-t1 : 332.107943 sec. \n",
      "\n",
      " temp : 1.150000 , t2-t1 : 333.613357 sec., t3-t1 : 333.613359 sec. \n",
      "\n",
      " temp : 1.200000 , t2-t1 : 334.402636 sec., t3-t1 : 334.402638 sec. \n",
      "\n",
      " temp : 1.250000 , t2-t1 : 336.460900 sec., t3-t1 : 336.460902 sec. \n",
      "\n",
      " temp : 1.300000 , t2-t1 : 341.880590 sec., t3-t1 : 341.880592 sec. \n",
      "\n",
      " temp : 1.350000 , t2-t1 : 340.144723 sec., t3-t1 : 340.144726 sec. \n",
      "\n",
      " temp : 1.400000 , t2-t1 : 337.601802 sec., t3-t1 : 337.601805 sec. \n",
      "\n",
      " temp : 1.450000 , t2-t1 : 339.555909 sec., t3-t1 : 339.555911 sec. \n",
      "\n",
      " temp : 1.500000 , t2-t1 : 340.557747 sec., t3-t1 : 340.557750 sec. \n",
      "\n",
      " temp : 1.550000 , t2-t1 : 342.579284 sec., t3-t1 : 342.579286 sec. \n",
      "\n",
      " temp : 1.600000 , t2-t1 : 344.613244 sec., t3-t1 : 344.613246 sec. \n",
      "\n",
      " temp : 1.650000 , t2-t1 : 345.885168 sec., t3-t1 : 345.885171 sec. \n",
      "\n",
      " temp : 1.700000 , t2-t1 : 348.508026 sec., t3-t1 : 348.508029 sec. \n",
      "\n",
      " temp : 1.750000 , t2-t1 : 350.909981 sec., t3-t1 : 350.909983 sec. \n",
      "\n",
      " temp : 1.800000 , t2-t1 : 355.591386 sec., t3-t1 : 355.591389 sec. \n",
      "\n",
      " temp : 1.850000 , t2-t1 : 358.757520 sec., t3-t1 : 358.757522 sec. \n",
      "\n",
      " temp : 1.900000 , t2-t1 : 363.258782 sec., t3-t1 : 363.258784 sec. \n",
      "\n",
      " temp : 1.950000 , t2-t1 : 369.545482 sec., t3-t1 : 369.545484 sec. \n",
      "\n",
      " temp : 2.000000 , t2-t1 : 376.015185 sec., t3-t1 : 376.015187 sec. \n",
      "\n",
      " temp : 2.050000 , t2-t1 : 384.937281 sec., t3-t1 : 384.937283 sec. \n",
      "\n",
      " temp : 2.100000 , t2-t1 : 398.665850 sec., t3-t1 : 398.665852 sec. \n",
      "\n",
      " temp : 2.150000 , t2-t1 : 403.305000 sec., t3-t1 : 403.305002 sec. \n",
      "\n",
      " temp : 2.200000 , t2-t1 : 419.249487 sec., t3-t1 : 419.249489 sec. \n",
      "\n",
      " temp : 2.250000 , t2-t1 : 438.730402 sec., t3-t1 : 438.730404 sec. \n",
      "\n",
      " temp : 2.300000 , t2-t1 : 458.183288 sec., t3-t1 : 458.183290 sec. \n",
      "\n",
      " temp : 2.350000 , t2-t1 : 476.095774 sec., t3-t1 : 476.095775 sec. \n",
      "\n",
      " temp : 2.400000 , t2-t1 : 491.375762 sec., t3-t1 : 491.375764 sec. \n",
      "\n",
      " temp : 2.450000 , t2-t1 : 499.186498 sec., t3-t1 : 499.186500 sec. \n",
      "\n",
      " temp : 2.500000 , t2-t1 : 505.931850 sec., t3-t1 : 505.931852 sec. \n",
      "\n",
      " temp : 2.550000 , t2-t1 : 522.743397 sec., t3-t1 : 522.743399 sec. \n",
      "\n",
      " temp : 2.600000 , t2-t1 : 528.661152 sec., t3-t1 : 528.661154 sec. \n",
      "\n",
      " temp : 2.650000 , t2-t1 : 535.596299 sec., t3-t1 : 535.596301 sec. \n",
      "\n",
      " temp : 2.700000 , t2-t1 : 551.087282 sec., t3-t1 : 551.087284 sec. \n",
      "\n",
      " temp : 2.750000 , t2-t1 : 549.237094 sec., t3-t1 : 549.237097 sec. \n",
      "\n",
      " temp : 2.800000 , t2-t1 : 558.786034 sec., t3-t1 : 558.786036 sec. \n",
      "\n",
      " temp : 2.850000 , t2-t1 : 560.279595 sec., t3-t1 : 560.279597 sec. \n",
      "\n",
      " temp : 2.900000 , t2-t1 : 568.216951 sec., t3-t1 : 568.216954 sec. \n",
      "\n",
      " temp : 2.950000 , t2-t1 : 569.949948 sec., t3-t1 : 569.949950 sec. \n",
      "\n",
      " temp : 3.000000 , t2-t1 : 579.395716 sec., t3-t1 : 579.395718 sec. \n",
      "\n"
     ]
    }
   ],
   "source": [
    "avgresults = []\n",
    "t0 = time.time()\n",
    "for temp in temps:\n",
    "    t1 = time.time()\n",
    "    [E_av, E_variance, M_av, M_variance, Mabs_av] = monteCarlo(temp,size,trials)\n",
    "    t2 = time.time() # return time in seconds\n",
    "    avgresults.append( [E_av, E_variance, M_av, M_variance, Mabs_av] )\n",
    "    t3 = time.time()\n",
    "    print( \" temp : %f , t2-t1 : %f sec., t3-t1 : %f sec. \\n\" % (temp, t2-t1, t3-t1) )\n"
   ]
  },
  {
   "cell_type": "markdown",
   "metadata": {},
   "source": [
    "## Timing Benchmarks   \n",
    "\n",
    "trials = 10000, $L_x=128$, $t_0=1.$, $t_f=3.$, $\\Delta t = 2.0$  (in secs.)\n",
    "\n",
    "```  \n",
    "temp : 1 , t2-t1 : 84.119749 \n",
    "\n",
    " temp : 2 , t2-t1 : 96.466402 \n",
    "\n",
    " temp : 3 , t2-t1 : 150.107681 \n",
    "```  \n"
   ]
  },
  {
   "cell_type": "code",
   "execution_count": 14,
   "metadata": {},
   "outputs": [
    {
     "name": "stdout",
     "output_type": "stream",
     "text": [
      "(41, 5)\n"
     ]
    }
   ],
   "source": [
    "print(avgresults.shape)"
   ]
  },
  {
   "cell_type": "code",
   "execution_count": 13,
   "metadata": {},
   "outputs": [],
   "source": [
    "avgresults = np.array( avgresults )"
   ]
  },
  {
   "cell_type": "code",
   "execution_count": 15,
   "metadata": {},
   "outputs": [],
   "source": [
    "import matplotlib.pyplot as plt"
   ]
  },
  {
   "cell_type": "code",
   "execution_count": 20,
   "metadata": {},
   "outputs": [],
   "source": [
    "T = np.array( temps)\n",
    "E_avg = avgresults[:,0]\n",
    "Evar_avg = avgresults[:,1]\n",
    "M_avg = avgresults[:,2]\n",
    "Mvar_avg = avgresults[:,3]\n",
    "Mabs_avg = avgresults[:,4]"
   ]
  },
  {
   "cell_type": "code",
   "execution_count": 21,
   "metadata": {},
   "outputs": [
    {
     "data": {
      "image/png": "[encoded data removed]",
      "text/plain": [
       "<matplotlib.figure.Figure at 0x7fd9c72ec510>"
      ]
     },
     "metadata": {},
     "output_type": "display_data"
    }
   ],
   "source": [
    "plt.scatter(T,E_avg)\n",
    "plt.show()"
   ]
  },
  {
   "cell_type": "code",
   "execution_count": 22,
   "metadata": {},
   "outputs": [
    {
     "data": {
      "image/png": "[encoded data removed]",
      "text/plain": [
       "<matplotlib.figure.Figure at 0x7fd9c4f92fd0>"
      ]
     },
     "metadata": {},
     "output_type": "display_data"
    }
   ],
   "source": [
    "plt.scatter(T,Evar_avg)\n",
    "plt.show()"
   ]
  },
  {
   "cell_type": "code",
   "execution_count": 23,
   "metadata": {},
   "outputs": [
    {
     "data": {
      "image/png": "[encoded data removed]",
      "text/plain": [
       "<matplotlib.figure.Figure at 0x7fd9c4c08cd0>"
      ]
     },
     "metadata": {},
     "output_type": "display_data"
    }
   ],
   "source": [
    "plt.scatter(T,M_avg)\n",
    "plt.show()"
   ]
  },
  {
   "cell_type": "code",
   "execution_count": 24,
   "metadata": {},
   "outputs": [
    {
     "data": {
      "image/png": "[encoded data removed]",
      "text/plain": [
       "<matplotlib.figure.Figure at 0x7fd9c2a2cbd0>"
      ]
     },
     "metadata": {},
     "output_type": "display_data"
    }
   ],
   "source": [
    "plt.scatter(T,Mvar_avg)\n",
    "plt.show()"
   ]
  },
  {
   "cell_type": "code",
   "execution_count": 25,
   "metadata": {},
   "outputs": [
    {
     "data": {
      "image/png": "[encoded data removed]",
      "text/plain": [
       "<matplotlib.figure.Figure at 0x7fd9c2a54850>"
      ]
     },
     "metadata": {},
     "output_type": "display_data"
    }
   ],
   "source": [
    "plt.scatter(T,Mabs_avg)\n",
    "plt.show()"
   ]
  },
  {
   "cell_type": "code",
   "execution_count": 16,
   "metadata": {},
   "outputs": [],
   "source": [
    "T = np.array( temps)\n",
    "E_avg = avgresults[:,0]\n",
    "Evar_avg = avgresults[:,1]\n",
    "M_avg = avgresults[:,2]\n",
    "Mvar_avg = avgresults[:,3]\n",
    "Mabs_avg = avgresults[:,4]"
   ]
  },
  {
   "cell_type": "code",
   "execution_count": 17,
   "metadata": {},
   "outputs": [
    {
     "data": {
      "image/png": "[encoded data removed]",
      "text/plain": [
       "<matplotlib.figure.Figure at 0x7f6938256ed0>"
      ]
     },
     "metadata": {},
     "output_type": "display_data"
    }
   ],
   "source": [
    "plt.scatter(T,E_avg)\n",
    "plt.show()"
   ]
  },
  {
   "cell_type": "code",
   "execution_count": 18,
   "metadata": {},
   "outputs": [
    {
     "data": {
      "image/png": "[encoded data removed]",
      "text/plain": [
       "<matplotlib.figure.Figure at 0x7f6935eb4990>"
      ]
     },
     "metadata": {},
     "output_type": "display_data"
    }
   ],
   "source": [
    "plt.scatter(T,Evar_avg)\n",
    "plt.show()"
   ]
  },
  {
   "cell_type": "code",
   "execution_count": 19,
   "metadata": {},
   "outputs": [
    {
     "data": {
      "image/png": "[encoded data removed]",
      "text/plain": [
       "<matplotlib.figure.Figure at 0x7f6935dea4d0>"
      ]
     },
     "metadata": {},
     "output_type": "display_data"
    }
   ],
   "source": [
    "plt.scatter(T,M_avg)\n",
    "plt.show()"
   ]
  },
  {
   "cell_type": "code",
   "execution_count": 20,
   "metadata": {},
   "outputs": [
    {
     "data": {
      "image/png": "[encoded data removed]",
      "text/plain": [
       "<matplotlib.figure.Figure at 0x7f6935d270d0>"
      ]
     },
     "metadata": {},
     "output_type": "display_data"
    }
   ],
   "source": [
    "plt.scatter(T,Mvar_avg)\n",
    "plt.show()"
   ]
  },
  {
   "cell_type": "code",
   "execution_count": 21,
   "metadata": {},
   "outputs": [
    {
     "data": {
      "image/png": "[encoded data removed]",
      "text/plain": [
       "<matplotlib.figure.Figure at 0x7f69580f12d0>"
      ]
     },
     "metadata": {},
     "output_type": "display_data"
    }
   ],
   "source": [
    "plt.scatter(T,Mabs_avg)\n",
    "plt.show()"
   ]
  },
  {
   "cell_type": "code",
   "execution_count": 22,
   "metadata": {},
   "outputs": [],
   "source": [
    "np.save(\"./Ising/data/IsingMetroCPU.npy\",avgresults)"
   ]
  },
  {
   "cell_type": "code",
   "execution_count": null,
   "metadata": {},
   "outputs": [],
   "source": []
  }
 ],
 "metadata": {
  "kernelspec": {
   "display_name": "Python 2",
   "language": "python",
   "name": "python2"
  },
  "language_info": {
   "codemirror_mode": {
    "name": "ipython",
    "version": 2
   },
   "file_extension": ".py",
   "mimetype": "text/x-python",
   "name": "python",
   "nbconvert_exporter": "python",
   "pygments_lexer": "ipython2",
   "version": "2.7.13"
  }
 },
 "nbformat": 4,
 "nbformat_minor": 2
}
